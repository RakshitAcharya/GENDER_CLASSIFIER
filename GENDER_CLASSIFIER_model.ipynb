{
  "nbformat": 4,
  "nbformat_minor": 0,
  "metadata": {
    "colab": {
      "name": "GENDER CLASSIFIER_model.ipynb",
      "provenance": [],
      "collapsed_sections": []
    },
    "kernelspec": {
      "name": "python3",
      "display_name": "Python 3"
    },
    "accelerator": "GPU"
  },
  "cells": [
    {
      "cell_type": "code",
      "metadata": {
        "id": "iAqCM5ovW-hg"
      },
      "source": [
        "\r\n",
        "import tensorflow as tf\r\n",
        "from tensorflow.keras.optimizers import RMSprop\r\n",
        "from tensorflow.keras.preprocessing.image import ImageDataGenerator"
      ],
      "execution_count": 1,
      "outputs": []
    },
    {
      "cell_type": "markdown",
      "metadata": {
        "id": "Z0VltspqyV_G"
      },
      "source": [
        "# LOAD DATA"
      ]
    },
    {
      "cell_type": "code",
      "metadata": {
        "id": "fARKLdybfThR"
      },
      "source": [
        "img_dims = (96,96,3)\r\n",
        "train_path=\"/content/drive/MyDrive/gender data/training\"\r\n",
        "test_path=\"/content/drive/MyDrive/gender data/validation\""
      ],
      "execution_count": 2,
      "outputs": []
    },
    {
      "cell_type": "markdown",
      "metadata": {
        "id": "6gOAYtZAya7F"
      },
      "source": [
        "# MODEL BUILDING"
      ]
    },
    {
      "cell_type": "code",
      "metadata": {
        "id": "w7AO1OtifpKo"
      },
      "source": [
        "    from tensorflow.keras.models import Sequential\r\n",
        "    from tensorflow.keras.layers import BatchNormalization, Conv2D, MaxPooling2D, Activation, Flatten, Dropout, Dense\r\n",
        "    \r\n",
        "    width=img_dims[0]\r\n",
        "    height=img_dims[1]\r\n",
        "    depth=img_dims[2]\r\n",
        "    chanDim = 1\r\n",
        "    \r\n",
        "    inputShape=(height,width,depth)\r\n",
        "    \r\n",
        "    model = Sequential()\r\n",
        "    model.add(Conv2D(32, (3,3), padding=\"same\", input_shape=inputShape))\r\n",
        "    model.add(Activation(\"relu\"))\r\n",
        "    model.add(BatchNormalization(axis=chanDim))\r\n",
        "    model.add(MaxPooling2D(pool_size=(3,3)))\r\n",
        "    model.add(Dropout(0.25))\r\n",
        "\r\n",
        "    model.add(Conv2D(64, (3,3), padding=\"same\"))\r\n",
        "    model.add(Activation(\"relu\"))\r\n",
        "    model.add(BatchNormalization(axis=chanDim))\r\n",
        "\r\n",
        "    model.add(Conv2D(64, (3,3), padding=\"same\"))\r\n",
        "    model.add(Activation(\"relu\"))\r\n",
        "    model.add(BatchNormalization(axis=chanDim))\r\n",
        "    model.add(MaxPooling2D(pool_size=(2,2)))\r\n",
        "    model.add(Dropout(0.25))\r\n",
        "\r\n",
        "    model.add(Conv2D(128, (3,3), padding=\"same\"))\r\n",
        "    model.add(Activation(\"relu\"))\r\n",
        "    model.add(BatchNormalization(axis=chanDim))\r\n",
        "\r\n",
        "    model.add(Conv2D(128, (3,3), padding=\"same\"))\r\n",
        "    model.add(Activation(\"relu\"))\r\n",
        "    model.add(BatchNormalization(axis=chanDim))\r\n",
        "    model.add(MaxPooling2D(pool_size=(2,2)))\r\n",
        "    model.add(Dropout(0.25))\r\n",
        "\r\n",
        "    model.add(Flatten())\r\n",
        "    model.add(Dense(1024))\r\n",
        "    model.add(Activation(\"relu\"))\r\n",
        "    model.add(BatchNormalization())\r\n",
        "    model.add(Dropout(0.5))\r\n",
        "\r\n",
        "    model.add(Dense(1))\r\n",
        "    model.add(Activation(\"sigmoid\"))\r\n"
      ],
      "execution_count": 3,
      "outputs": []
    },
    {
      "cell_type": "code",
      "metadata": {
        "colab": {
          "base_uri": "https://localhost:8080/"
        },
        "id": "mlKHXa48fwb3",
        "outputId": "441feed5-a435-446b-e2f5-3b612730d578"
      },
      "source": [
        "model.summary()"
      ],
      "execution_count": 4,
      "outputs": [
        {
          "output_type": "stream",
          "text": [
            "Model: \"sequential\"\n",
            "_________________________________________________________________\n",
            "Layer (type)                 Output Shape              Param #   \n",
            "=================================================================\n",
            "conv2d (Conv2D)              (None, 96, 96, 32)        896       \n",
            "_________________________________________________________________\n",
            "activation (Activation)      (None, 96, 96, 32)        0         \n",
            "_________________________________________________________________\n",
            "batch_normalization (BatchNo (None, 96, 96, 32)        384       \n",
            "_________________________________________________________________\n",
            "max_pooling2d (MaxPooling2D) (None, 32, 32, 32)        0         \n",
            "_________________________________________________________________\n",
            "dropout (Dropout)            (None, 32, 32, 32)        0         \n",
            "_________________________________________________________________\n",
            "conv2d_1 (Conv2D)            (None, 32, 32, 64)        18496     \n",
            "_________________________________________________________________\n",
            "activation_1 (Activation)    (None, 32, 32, 64)        0         \n",
            "_________________________________________________________________\n",
            "batch_normalization_1 (Batch (None, 32, 32, 64)        128       \n",
            "_________________________________________________________________\n",
            "conv2d_2 (Conv2D)            (None, 32, 32, 64)        36928     \n",
            "_________________________________________________________________\n",
            "activation_2 (Activation)    (None, 32, 32, 64)        0         \n",
            "_________________________________________________________________\n",
            "batch_normalization_2 (Batch (None, 32, 32, 64)        128       \n",
            "_________________________________________________________________\n",
            "max_pooling2d_1 (MaxPooling2 (None, 16, 16, 64)        0         \n",
            "_________________________________________________________________\n",
            "dropout_1 (Dropout)          (None, 16, 16, 64)        0         \n",
            "_________________________________________________________________\n",
            "conv2d_3 (Conv2D)            (None, 16, 16, 128)       73856     \n",
            "_________________________________________________________________\n",
            "activation_3 (Activation)    (None, 16, 16, 128)       0         \n",
            "_________________________________________________________________\n",
            "batch_normalization_3 (Batch (None, 16, 16, 128)       64        \n",
            "_________________________________________________________________\n",
            "conv2d_4 (Conv2D)            (None, 16, 16, 128)       147584    \n",
            "_________________________________________________________________\n",
            "activation_4 (Activation)    (None, 16, 16, 128)       0         \n",
            "_________________________________________________________________\n",
            "batch_normalization_4 (Batch (None, 16, 16, 128)       64        \n",
            "_________________________________________________________________\n",
            "max_pooling2d_2 (MaxPooling2 (None, 8, 8, 128)         0         \n",
            "_________________________________________________________________\n",
            "dropout_2 (Dropout)          (None, 8, 8, 128)         0         \n",
            "_________________________________________________________________\n",
            "flatten (Flatten)            (None, 8192)              0         \n",
            "_________________________________________________________________\n",
            "dense (Dense)                (None, 1024)              8389632   \n",
            "_________________________________________________________________\n",
            "activation_5 (Activation)    (None, 1024)              0         \n",
            "_________________________________________________________________\n",
            "batch_normalization_5 (Batch (None, 1024)              4096      \n",
            "_________________________________________________________________\n",
            "dropout_3 (Dropout)          (None, 1024)              0         \n",
            "_________________________________________________________________\n",
            "dense_1 (Dense)              (None, 1)                 1025      \n",
            "_________________________________________________________________\n",
            "activation_6 (Activation)    (None, 1)                 0         \n",
            "=================================================================\n",
            "Total params: 8,673,281\n",
            "Trainable params: 8,670,849\n",
            "Non-trainable params: 2,432\n",
            "_________________________________________________________________\n"
          ],
          "name": "stdout"
        }
      ]
    },
    {
      "cell_type": "markdown",
      "metadata": {
        "id": "0B2yQMIayhSh"
      },
      "source": [
        "# IMAGE DATA GENERATOR"
      ]
    },
    {
      "cell_type": "code",
      "metadata": {
        "id": "VzNEiRAvfzYF"
      },
      "source": [
        "model.compile(loss='binary_crossentropy',\r\n",
        "              optimizer=RMSprop(lr=1e-4),\r\n",
        "              metrics=['accuracy'])"
      ],
      "execution_count": 5,
      "outputs": []
    },
    {
      "cell_type": "code",
      "metadata": {
        "id": "by7i0HTif48p"
      },
      "source": [
        "train_datagen = ImageDataGenerator(\r\n",
        "      rescale=1./255,\r\n",
        "      rotation_range=40,\r\n",
        "      width_shift_range=0.2,\r\n",
        "      height_shift_range=0.2,\r\n",
        "      shear_range=0.2,\r\n",
        "      zoom_range=0.2,\r\n",
        "      horizontal_flip=True,\r\n",
        "      fill_mode='nearest')\r\n",
        "\r\n",
        "test_datagen = ImageDataGenerator(rescale=1./255)"
      ],
      "execution_count": 6,
      "outputs": []
    },
    {
      "cell_type": "code",
      "metadata": {
        "colab": {
          "base_uri": "https://localhost:8080/"
        },
        "id": "IWJRYmS-f8jS",
        "outputId": "213ddd0d-cacf-4bcd-ac14-0776a5d31737"
      },
      "source": [
        "train_generator = train_datagen.flow_from_directory(\r\n",
        "        train_path,  # This is the source directory for training images\r\n",
        "        target_size=(96, 96),  # All images will be resized to 150x150\r\n",
        "        batch_size=10,\r\n",
        "        \r\n",
        "        class_mode='binary')\r\n",
        "\r\n",
        "# Flow validation images in batches of 20 using test_datagen generator\r\n",
        "validation_generator = test_datagen.flow_from_directory(\r\n",
        "        test_path,\r\n",
        "        target_size=(96, 96),\r\n",
        "        batch_size=10,\r\n",
        "        class_mode='binary')"
      ],
      "execution_count": 7,
      "outputs": [
        {
          "output_type": "stream",
          "text": [
            "Found 2307 images belonging to 2 classes.\n",
            "Found 500 images belonging to 2 classes.\n"
          ],
          "name": "stdout"
        }
      ]
    },
    {
      "cell_type": "code",
      "metadata": {
        "colab": {
          "base_uri": "https://localhost:8080/"
        },
        "id": "_gqLVINuiksZ",
        "outputId": "b3aa9fc4-f984-48ba-86d1-d23986dc2e9b"
      },
      "source": [
        "history=model.fit(train_generator,\r\n",
        "          validation_data=validation_generator,\r\n",
        "          epochs=20)"
      ],
      "execution_count": 15,
      "outputs": [
        {
          "output_type": "stream",
          "text": [
            "Epoch 1/20\n",
            "231/231 [==============================] - 13s 58ms/step - loss: 0.1364 - accuracy: 0.9515 - val_loss: 0.2445 - val_accuracy: 0.9160\n",
            "Epoch 2/20\n",
            "231/231 [==============================] - 13s 56ms/step - loss: 0.1441 - accuracy: 0.9419 - val_loss: 0.2245 - val_accuracy: 0.9340\n",
            "Epoch 3/20\n",
            "231/231 [==============================] - 13s 56ms/step - loss: 0.1377 - accuracy: 0.9484 - val_loss: 0.3515 - val_accuracy: 0.9020\n",
            "Epoch 4/20\n",
            "231/231 [==============================] - 13s 55ms/step - loss: 0.1375 - accuracy: 0.9467 - val_loss: 0.2490 - val_accuracy: 0.9260\n",
            "Epoch 5/20\n",
            "231/231 [==============================] - 13s 56ms/step - loss: 0.1521 - accuracy: 0.9454 - val_loss: 0.1914 - val_accuracy: 0.9400\n",
            "Epoch 6/20\n",
            "231/231 [==============================] - 13s 56ms/step - loss: 0.1563 - accuracy: 0.9445 - val_loss: 0.1971 - val_accuracy: 0.9400\n",
            "Epoch 7/20\n",
            "231/231 [==============================] - 13s 56ms/step - loss: 0.1248 - accuracy: 0.9510 - val_loss: 0.2262 - val_accuracy: 0.9320\n",
            "Epoch 8/20\n",
            "231/231 [==============================] - 13s 55ms/step - loss: 0.1310 - accuracy: 0.9567 - val_loss: 0.2154 - val_accuracy: 0.9320\n",
            "Epoch 9/20\n",
            "231/231 [==============================] - 13s 55ms/step - loss: 0.1492 - accuracy: 0.9441 - val_loss: 0.1895 - val_accuracy: 0.9380\n",
            "Epoch 10/20\n",
            "231/231 [==============================] - 13s 55ms/step - loss: 0.1438 - accuracy: 0.9436 - val_loss: 0.3076 - val_accuracy: 0.8960\n",
            "Epoch 11/20\n",
            "231/231 [==============================] - 13s 56ms/step - loss: 0.1720 - accuracy: 0.9415 - val_loss: 0.2076 - val_accuracy: 0.9280\n",
            "Epoch 12/20\n",
            "231/231 [==============================] - 13s 56ms/step - loss: 0.1470 - accuracy: 0.9515 - val_loss: 0.2843 - val_accuracy: 0.9040\n",
            "Epoch 13/20\n",
            "231/231 [==============================] - 13s 56ms/step - loss: 0.1248 - accuracy: 0.9593 - val_loss: 0.2103 - val_accuracy: 0.9400\n",
            "Epoch 14/20\n",
            "231/231 [==============================] - 13s 55ms/step - loss: 0.1322 - accuracy: 0.9545 - val_loss: 0.2239 - val_accuracy: 0.9220\n",
            "Epoch 15/20\n",
            "231/231 [==============================] - 13s 56ms/step - loss: 0.1287 - accuracy: 0.9549 - val_loss: 0.3025 - val_accuracy: 0.8900\n",
            "Epoch 16/20\n",
            "231/231 [==============================] - 13s 56ms/step - loss: 0.1478 - accuracy: 0.9436 - val_loss: 0.4091 - val_accuracy: 0.8640\n",
            "Epoch 17/20\n",
            "231/231 [==============================] - 13s 55ms/step - loss: 0.1618 - accuracy: 0.9432 - val_loss: 0.3079 - val_accuracy: 0.9000\n",
            "Epoch 18/20\n",
            "231/231 [==============================] - 13s 54ms/step - loss: 0.1437 - accuracy: 0.9471 - val_loss: 0.2137 - val_accuracy: 0.9300\n",
            "Epoch 19/20\n",
            "231/231 [==============================] - 13s 56ms/step - loss: 0.1701 - accuracy: 0.9423 - val_loss: 0.2486 - val_accuracy: 0.9200\n",
            "Epoch 20/20\n",
            "231/231 [==============================] - 13s 55ms/step - loss: 0.1275 - accuracy: 0.9554 - val_loss: 0.2472 - val_accuracy: 0.9220\n"
          ],
          "name": "stdout"
        }
      ]
    },
    {
      "cell_type": "markdown",
      "metadata": {
        "id": "0ITnLGRvz84F"
      },
      "source": [
        "# RESULTS"
      ]
    },
    {
      "cell_type": "code",
      "metadata": {
        "colab": {
          "base_uri": "https://localhost:8080/",
          "height": 281
        },
        "id": "HVlhh2JRjGLk",
        "outputId": "903156be-48ab-4550-988f-4b0752790f0f"
      },
      "source": [
        "import numpy as np\r\n",
        "import matplotlib.pyplot as plt\r\n",
        "\r\n",
        "acc=history.history[\"accuracy\"]\r\n",
        "val_acc=history.history[\"val_accuracy\"]\r\n",
        "epochs=range(len(acc))\r\n",
        "\r\n",
        "plt.plot(epochs,acc,label=\"accuracy\")\r\n",
        "plt.plot(epochs,val_acc,label=\"val_accuracy\")\r\n",
        "plt.title(\"ACCURACY\")\r\n",
        "plt.legend();"
      ],
      "execution_count": 24,
      "outputs": [
        {
          "output_type": "display_data",
          "data": {
            "image/png": "[encoded data removed]",
            "text/plain": [
              "<Figure size 432x288 with 1 Axes>"
            ]
          },
          "metadata": {
            "tags": [],
            "needs_background": "light"
          }
        }
      ]
    },
    {
      "cell_type": "code",
      "metadata": {
        "colab": {
          "base_uri": "https://localhost:8080/",
          "height": 281
        },
        "id": "3mtxYgh60LIl",
        "outputId": "9fcc05b4-812a-487b-a13f-3460df24453d"
      },
      "source": [
        "loss=history.history[\"loss\"]\r\n",
        "val_loss=history.history[\"val_loss\"]\r\n",
        "epochs=range(len(acc))\r\n",
        "\r\n",
        "plt.plot(epochs,loss,label=\"loss\")\r\n",
        "plt.plot(epochs,val_loss,label=\"val_loss\")\r\n",
        "plt.title(\"LOSS\")\r\n",
        "plt.legend();"
      ],
      "execution_count": 25,
      "outputs": [
        {
          "output_type": "display_data",
          "data": {
            "image/png": "[encoded data removed]",
            "text/plain": [
              "<Figure size 432x288 with 1 Axes>"
            ]
          },
          "metadata": {
            "tags": [],
            "needs_background": "light"
          }
        }
      ]
    },
    {
      "cell_type": "code",
      "metadata": {
        "id": "an9cTYhx2_li"
      },
      "source": [
        "import os.path\r\n",
        "\r\n",
        "if os.path.isfile(\"/content/drive/MyDrive/gender data/gender_classifier.h5\") is False:\r\n",
        "  model.save(\"/content/drive/MyDrive/gender data/gender_classifier.h5\")"
      ],
      "execution_count": 26,
      "outputs": []
    },
    {
      "cell_type": "code",
      "metadata": {
        "id": "5xH358FR3sPA"
      },
      "source": [
        "from tensorflow.keras.models import load_model\r\n",
        "\r\n",
        "model_new=load_model(\"/content/drive/MyDrive/gender data/gender_classifier.h5\")"
      ],
      "execution_count": 28,
      "outputs": []
    },
    {
      "cell_type": "markdown",
      "metadata": {
        "id": "B-VUZb5n49Zo"
      },
      "source": [
        "#CHECK FOR YOURSELF"
      ]
    },
    {
      "cell_type": "code",
      "metadata": {
        "colab": {
          "resources": {
            "http://localhost:8080/nbextensions/google.colab/files.js": {
              "data": "Ly8gQ29weXJpZ2h0IDIwMTcgR29vZ2xlIExMQwovLwovLyBMaWNlbnNlZCB1bmRlciB0aGUgQXBhY2hlIExpY2Vuc2UsIFZlcnNpb24gMi4wICh0aGUgIkxpY2Vuc2UiKTsKLy8geW91IG1heSBub3QgdXNlIHRoaXMgZmlsZSBleGNlcHQgaW4gY29tcGxpYW5jZSB3aXRoIHRoZSBMaWNlbnNlLgovLyBZb3UgbWF5IG9idGFpbiBhIGNvcHkgb2YgdGhlIExpY2Vuc2UgYXQKLy8KLy8gICAgICBodHRwOi8vd3d3LmFwYWNoZS5vcmcvbGljZW5zZXMvTElDRU5TRS0yLjAKLy8KLy8gVW5sZXNzIHJlcXVpcmVkIGJ5IGFwcGxpY2FibGUgbGF3IG9yIGFncmVlZCB0byBpbiB3cml0aW5nLCBzb2Z0d2FyZQovLyBkaXN0cmlidXRlZCB1bmRlciB0aGUgTGljZW5zZSBpcyBkaXN0cmlidXRlZCBvbiBhbiAiQVMgSVMiIEJBU0lTLAovLyBXSVRIT1VUIFdBUlJBTlRJRVMgT1IgQ09ORElUSU9OUyBPRiBBTlkgS0lORCwgZWl0aGVyIGV4cHJlc3Mgb3IgaW1wbGllZC4KLy8gU2VlIHRoZSBMaWNlbnNlIGZvciB0aGUgc3BlY2lmaWMgbGFuZ3VhZ2UgZ292ZXJuaW5nIHBlcm1pc3Npb25zIGFuZAovLyBsaW1pdGF0aW9ucyB1bmRlciB0aGUgTGljZW5zZS4KCi8qKgogKiBAZmlsZW92ZXJ2aWV3IEhlbHBlcnMgZm9yIGdvb2dsZS5jb2xhYiBQeXRob24gbW9kdWxlLgogKi8KKGZ1bmN0aW9uKHNjb3BlKSB7CmZ1bmN0aW9uIHNwYW4odGV4dCwgc3R5bGVBdHRyaWJ1dGVzID0ge30pIHsKICBjb25zdCBlbGVtZW50ID0gZG9jdW1lbnQuY3JlYXRlRWxlbWVudCgnc3BhbicpOwogIGVsZW1lbnQudGV4dENvbnRlbnQgPSB0ZXh0OwogIGZvciAoY29uc3Qga2V5IG9mIE9iamVjdC5rZXlzKHN0eWxlQXR0cmlidXRlcykpIHsKICAgIGVsZW1lbnQuc3R5bGVba2V5XSA9IHN0eWxlQXR0cmlidXRlc1trZXldOwogIH0KICByZXR1cm4gZWxlbWVudDsKfQoKLy8gTWF4IG51bWJlciBvZiBieXRlcyB3aGljaCB3aWxsIGJlIHVwbG9hZGVkIGF0IGEgdGltZS4KY29uc3QgTUFYX1BBWUxPQURfU0laRSA9IDEwMCAqIDEwMjQ7CgpmdW5jdGlvbiBfdXBsb2FkRmlsZXMoaW5wdXRJZCwgb3V0cHV0SWQpIHsKICBjb25zdCBzdGVwcyA9IHVwbG9hZEZpbGVzU3RlcChpbnB1dElkLCBvdXRwdXRJZCk7CiAgY29uc3Qgb3V0cHV0RWxlbWVudCA9IGRvY3VtZW50LmdldEVsZW1lbnRCeUlkKG91dHB1dElkKTsKICAvLyBDYWNoZSBzdGVwcyBvbiB0aGUgb3V0cHV0RWxlbWVudCB0byBtYWtlIGl0IGF2YWlsYWJsZSBmb3IgdGhlIG5leHQgY2FsbAogIC8vIHRvIHVwbG9hZEZpbGVzQ29udGludWUgZnJvbSBQeXRob24uCiAgb3V0cHV0RWxlbWVudC5zdGVwcyA9IHN0ZXBzOwoKICByZXR1cm4gX3VwbG9hZEZpbGVzQ29udGludWUob3V0cHV0SWQpOwp9CgovLyBUaGlzIGlzIHJvdWdobHkgYW4gYXN5bmMgZ2VuZXJhdG9yIChub3Qgc3VwcG9ydGVkIGluIHRoZSBicm93c2VyIHlldCksCi8vIHdoZXJlIHRoZXJlIGFyZSBtdWx0aXBsZSBhc3luY2hyb25vdXMgc3RlcHMgYW5kIHRoZSBQeXRob24gc2lkZSBpcyBnb2luZwovLyB0byBwb2xsIGZvciBjb21wbGV0aW9uIG9mIGVhY2ggc3RlcC4KLy8gVGhpcyB1c2VzIGEgUHJvbWlzZSB0byBibG9jayB0aGUgcHl0aG9uIHNpZGUgb24gY29tcGxldGlvbiBvZiBlYWNoIHN0ZXAsCi8vIHRoZW4gcGFzc2VzIHRoZSByZXN1bHQgb2YgdGhlIHByZXZpb3VzIHN0ZXAgYXMgdGhlIGlucHV0IHRvIHRoZSBuZXh0IHN0ZXAuCmZ1bmN0aW9uIF91cGxvYWRGaWxlc0NvbnRpbnVlKG91dHB1dElkKSB7CiAgY29uc3Qgb3V0cHV0RWxlbWVudCA9IGRvY3VtZW50LmdldEVsZW1lbnRCeUlkKG91dHB1dElkKTsKICBjb25zdCBzdGVwcyA9IG91dHB1dEVsZW1lbnQuc3RlcHM7CgogIGNvbnN0IG5leHQgPSBzdGVwcy5uZXh0KG91dHB1dEVsZW1lbnQubGFzdFByb21pc2VWYWx1ZSk7CiAgcmV0dXJuIFByb21pc2UucmVzb2x2ZShuZXh0LnZhbHVlLnByb21pc2UpLnRoZW4oKHZhbHVlKSA9PiB7CiAgICAvLyBDYWNoZSB0aGUgbGFzdCBwcm9taXNlIHZhbHVlIHRvIG1ha2UgaXQgYXZhaWxhYmxlIHRvIHRoZSBuZXh0CiAgICAvLyBzdGVwIG9mIHRoZSBnZW5lcmF0b3IuCiAgICBvdXRwdXRFbGVtZW50Lmxhc3RQcm9taXNlVmFsdWUgPSB2YWx1ZTsKICAgIHJldHVybiBuZXh0LnZhbHVlLnJlc3BvbnNlOwogIH0pOwp9CgovKioKICogR2VuZXJhdG9yIGZ1bmN0aW9uIHdoaWNoIGlzIGNhbGxlZCBiZXR3ZWVuIGVhY2ggYXN5bmMgc3RlcCBvZiB0aGUgdXBsb2FkCiAqIHByb2Nlc3MuCiAqIEBwYXJhbSB7c3RyaW5nfSBpbnB1dElkIEVsZW1lbnQgSUQgb2YgdGhlIGlucHV0IGZpbGUgcGlja2VyIGVsZW1lbnQuCiAqIEBwYXJhbSB7c3RyaW5nfSBvdXRwdXRJZCBFbGVtZW50IElEIG9mIHRoZSBvdXRwdXQgZGlzcGxheS4KICogQHJldHVybiB7IUl0ZXJhYmxlPCFPYmplY3Q+fSBJdGVyYWJsZSBvZiBuZXh0IHN0ZXBzLgogKi8KZnVuY3Rpb24qIHVwbG9hZEZpbGVzU3RlcChpbnB1dElkLCBvdXRwdXRJZCkgewogIGNvbnN0IGlucHV0RWxlbWVudCA9IGRvY3VtZW50LmdldEVsZW1lbnRCeUlkKGlucHV0SWQpOwogIGlucHV0RWxlbWVudC5kaXNhYmxlZCA9IGZhbHNlOwoKICBjb25zdCBvdXRwdXRFbGVtZW50ID0gZG9jdW1lbnQuZ2V0RWxlbWVudEJ5SWQob3V0cHV0SWQpOwogIG91dHB1dEVsZW1lbnQuaW5uZXJIVE1MID0gJyc7CgogIGNvbnN0IHBpY2tlZFByb21pc2UgPSBuZXcgUHJvbWlzZSgocmVzb2x2ZSkgPT4gewogICAgaW5wdXRFbGVtZW50LmFkZEV2ZW50TGlzdGVuZXIoJ2NoYW5nZScsIChlKSA9PiB7CiAgICAgIHJlc29sdmUoZS50YXJnZXQuZmlsZXMpOwogICAgfSk7CiAgfSk7CgogIGNvbnN0IGNhbmNlbCA9IGRvY3VtZW50LmNyZWF0ZUVsZW1lbnQoJ2J1dHRvbicpOwogIGlucHV0RWxlbWVudC5wYXJlbnRFbGVtZW50LmFwcGVuZENoaWxkKGNhbmNlbCk7CiAgY2FuY2VsLnRleHRDb250ZW50ID0gJ0NhbmNlbCB1cGxvYWQnOwogIGNvbnN0IGNhbmNlbFByb21pc2UgPSBuZXcgUHJvbWlzZSgocmVzb2x2ZSkgPT4gewogICAgY2FuY2VsLm9uY2xpY2sgPSAoKSA9PiB7CiAgICAgIHJlc29sdmUobnVsbCk7CiAgICB9OwogIH0pOwoKICAvLyBXYWl0IGZvciB0aGUgdXNlciB0byBwaWNrIHRoZSBmaWxlcy4KICBjb25zdCBmaWxlcyA9IHlpZWxkIHsKICAgIHByb21pc2U6IFByb21pc2UucmFjZShbcGlja2VkUHJvbWlzZSwgY2FuY2VsUHJvbWlzZV0pLAogICAgcmVzcG9uc2U6IHsKICAgICAgYWN0aW9uOiAnc3RhcnRpbmcnLAogICAgfQogIH07CgogIGNhbmNlbC5yZW1vdmUoKTsKCiAgLy8gRGlzYWJsZSB0aGUgaW5wdXQgZWxlbWVudCBzaW5jZSBmdXJ0aGVyIHBpY2tzIGFyZSBub3QgYWxsb3dlZC4KICBpbnB1dEVsZW1lbnQuZGlzYWJsZWQgPSB0cnVlOwoKICBpZiAoIWZpbGVzKSB7CiAgICByZXR1cm4gewogICAgICByZXNwb25zZTogewogICAgICAgIGFjdGlvbjogJ2NvbXBsZXRlJywKICAgICAgfQogICAgfTsKICB9CgogIGZvciAoY29uc3QgZmlsZSBvZiBmaWxlcykgewogICAgY29uc3QgbGkgPSBkb2N1bWVudC5jcmVhdGVFbGVtZW50KCdsaScpOwogICAgbGkuYXBwZW5kKHNwYW4oZmlsZS5uYW1lLCB7Zm9udFdlaWdodDogJ2JvbGQnfSkpOwogICAgbGkuYXBwZW5kKHNwYW4oCiAgICAgICAgYCgke2ZpbGUudHlwZSB8fCAnbi9hJ30pIC0gJHtmaWxlLnNpemV9IGJ5dGVzLCBgICsKICAgICAgICBgbGFzdCBtb2RpZmllZDogJHsKICAgICAgICAgICAgZmlsZS5sYXN0TW9kaWZpZWREYXRlID8gZmlsZS5sYXN0TW9kaWZpZWREYXRlLnRvTG9jYWxlRGF0ZVN0cmluZygpIDoKICAgICAgICAgICAgICAgICAgICAgICAgICAgICAgICAgICAgJ24vYSd9IC0gYCkpOwogICAgY29uc3QgcGVyY2VudCA9IHNwYW4oJzAlIGRvbmUnKTsKICAgIGxpLmFwcGVuZENoaWxkKHBlcmNlbnQpOwoKICAgIG91dHB1dEVsZW1lbnQuYXBwZW5kQ2hpbGQobGkpOwoKICAgIGNvbnN0IGZpbGVEYXRhUHJvbWlzZSA9IG5ldyBQcm9taXNlKChyZXNvbHZlKSA9PiB7CiAgICAgIGNvbnN0IHJlYWRlciA9IG5ldyBGaWxlUmVhZGVyKCk7CiAgICAgIHJlYWRlci5vbmxvYWQgPSAoZSkgPT4gewogICAgICAgIHJlc29sdmUoZS50YXJnZXQucmVzdWx0KTsKICAgICAgfTsKICAgICAgcmVhZGVyLnJlYWRBc0FycmF5QnVmZmVyKGZpbGUpOwogICAgfSk7CiAgICAvLyBXYWl0IGZvciB0aGUgZGF0YSB0byBiZSByZWFkeS4KICAgIGxldCBmaWxlRGF0YSA9IHlpZWxkIHsKICAgICAgcHJvbWlzZTogZmlsZURhdGFQcm9taXNlLAogICAgICByZXNwb25zZTogewogICAgICAgIGFjdGlvbjogJ2NvbnRpbnVlJywKICAgICAgfQogICAgfTsKCiAgICAvLyBVc2UgYSBjaHVua2VkIHNlbmRpbmcgdG8gYXZvaWQgbWVzc2FnZSBzaXplIGxpbWl0cy4gU2VlIGIvNjIxMTU2NjAuCiAgICBsZXQgcG9zaXRpb24gPSAwOwogICAgd2hpbGUgKHBvc2l0aW9uIDwgZmlsZURhdGEuYnl0ZUxlbmd0aCkgewogICAgICBjb25zdCBsZW5ndGggPSBNYXRoLm1pbihmaWxlRGF0YS5ieXRlTGVuZ3RoIC0gcG9zaXRpb24sIE1BWF9QQVlMT0FEX1NJWkUpOwogICAgICBjb25zdCBjaHVuayA9IG5ldyBVaW50OEFycmF5KGZpbGVEYXRhLCBwb3NpdGlvbiwgbGVuZ3RoKTsKICAgICAgcG9zaXRpb24gKz0gbGVuZ3RoOwoKICAgICAgY29uc3QgYmFzZTY0ID0gYnRvYShTdHJpbmcuZnJvbUNoYXJDb2RlLmFwcGx5KG51bGwsIGNodW5rKSk7CiAgICAgIHlpZWxkIHsKICAgICAgICByZXNwb25zZTogewogICAgICAgICAgYWN0aW9uOiAnYXBwZW5kJywKICAgICAgICAgIGZpbGU6IGZpbGUubmFtZSwKICAgICAgICAgIGRhdGE6IGJhc2U2NCwKICAgICAgICB9LAogICAgICB9OwogICAgICBwZXJjZW50LnRleHRDb250ZW50ID0KICAgICAgICAgIGAke01hdGgucm91bmQoKHBvc2l0aW9uIC8gZmlsZURhdGEuYnl0ZUxlbmd0aCkgKiAxMDApfSUgZG9uZWA7CiAgICB9CiAgfQoKICAvLyBBbGwgZG9uZS4KICB5aWVsZCB7CiAgICByZXNwb25zZTogewogICAgICBhY3Rpb246ICdjb21wbGV0ZScsCiAgICB9CiAgfTsKfQoKc2NvcGUuZ29vZ2xlID0gc2NvcGUuZ29vZ2xlIHx8IHt9OwpzY29wZS5nb29nbGUuY29sYWIgPSBzY29wZS5nb29nbGUuY29sYWIgfHwge307CnNjb3BlLmdvb2dsZS5jb2xhYi5fZmlsZXMgPSB7CiAgX3VwbG9hZEZpbGVzLAogIF91cGxvYWRGaWxlc0NvbnRpbnVlLAp9Owp9KShzZWxmKTsK",
              "ok": true,
              "headers": [
                [
                  "content-type",
                  "application/javascript"
                ]
              ],
              "status": 200,
              "status_text": ""
            }
          },
          "base_uri": "https://localhost:8080/",
          "height": 190
        },
        "id": "CL1iviPg4t3l",
        "outputId": "a0d8d2d3-f929-4643-c814-20d42c0211cf"
      },
      "source": [
        "import numpy as np\r\n",
        "\r\n",
        "from google.colab import files\r\n",
        "from keras.preprocessing import image\r\n",
        "\r\n",
        "uploaded=files.upload()\r\n",
        "\r\n",
        "for fn in uploaded.keys():\r\n",
        " \r\n",
        "  # predicting images\r\n",
        "  path='/content/' + fn\r\n",
        "  img=image.load_img(path, target_size=(96, 96))\r\n",
        "  \r\n",
        "  x=image.img_to_array(img)\r\n",
        "  x=np.expand_dims(x, axis=0)\r\n",
        "  images = np.vstack([x])\r\n",
        "  \r\n",
        "  classes = model_new.predict(images, batch_size=10)\r\n",
        "  \r\n",
        "\r\n",
        "  \r\n",
        "  if classes[0]>0:\r\n",
        "    print(fn + \" is a WOMAN\")\r\n",
        "    \r\n",
        "  else:\r\n",
        "    print(fn + \" is a MAN\")"
      ],
      "execution_count": 37,
      "outputs": [
        {
          "output_type": "display_data",
          "data": {
            "text/html": [
              "\n",
              "     <input type=\"file\" id=\"files-c0ba3247-6d7e-4bb4-bd25-2544e50f6960\" name=\"files[]\" multiple disabled\n",
              "        style=\"border:none\" />\n",
              "     <output id=\"result-c0ba3247-6d7e-4bb4-bd25-2544e50f6960\">\n",
              "      Upload widget is only available when the cell has been executed in the\n",
              "      current browser session. Please rerun this cell to enable.\n",
              "      </output>\n",
              "      <script src=\"/nbextensions/google.colab/files.js\"></script> "
            ],
            "text/plain": [
              "<IPython.core.display.HTML object>"
            ]
          },
          "metadata": {
            "tags": []
          }
        },
        {
          "output_type": "stream",
          "text": [
            "Saving 090674.jpg.jpg to 090674.jpg.jpg\n",
            "Saving 090678.jpg.jpg to 090678.jpg.jpg\n",
            "Saving 090700.jpg.jpg to 090700.jpg.jpg\n",
            "090674.jpg.jpg is a MAN\n",
            "090678.jpg.jpg is a MAN\n",
            "090700.jpg.jpg is a MAN\n"
          ],
          "name": "stdout"
        }
      ]
    },
    {
      "cell_type": "code",
      "metadata": {
        "id": "GhEAgFWN5E8K"
      },
      "source": [
        ""
      ],
      "execution_count": 36,
      "outputs": []
    }
  ]
}